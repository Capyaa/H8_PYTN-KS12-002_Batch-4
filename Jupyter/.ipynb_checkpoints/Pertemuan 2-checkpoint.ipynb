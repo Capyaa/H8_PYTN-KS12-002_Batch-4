{
 "cells": [
  {
   "cell_type": "markdown",
   "id": "d211b4e3",
   "metadata": {},
   "source": [
    "# Conditions, Control, Flow & Looping"
   ]
  },
  {
   "cell_type": "markdown",
   "id": "ccfbe4e8",
   "metadata": {},
   "source": [
    "## Conditional"
   ]
  },
  {
   "cell_type": "code",
   "execution_count": 1,
   "id": "c2e3cb7d",
   "metadata": {},
   "outputs": [],
   "source": [
    "a = 10\n",
    "b = 5"
   ]
  },
  {
   "cell_type": "code",
   "execution_count": 2,
   "id": "eae67802",
   "metadata": {},
   "outputs": [
    {
     "name": "stdout",
     "output_type": "stream",
     "text": [
      "Nilai a tidak sama dengan nilai b\n"
     ]
    }
   ],
   "source": [
    "if a != b :\n",
    "    print('Nilai a tidak sama dengan nilai b')"
   ]
  },
  {
   "cell_type": "code",
   "execution_count": 4,
   "id": "94b5be66",
   "metadata": {},
   "outputs": [],
   "source": [
    "if a == b :\n",
    "    print('Nilai a sama dengan nilai b')"
   ]
  },
  {
   "cell_type": "code",
   "execution_count": 8,
   "id": "6fe5bab2",
   "metadata": {},
   "outputs": [],
   "source": [
    "if 'foo' in 'Rendang is best asians Food':\n",
    "    print('foo is exist')"
   ]
  },
  {
   "cell_type": "markdown",
   "id": "a14eddd8",
   "metadata": {},
   "source": []
  },
  {
   "cell_type": "code",
   "execution_count": 10,
   "id": "c2645ea9",
   "metadata": {},
   "outputs": [
    {
     "name": "stdout",
     "output_type": "stream",
     "text": [
      "a^2+b/2=c\n"
     ]
    }
   ],
   "source": [
    "print('a^2+b/2=c')"
   ]
  },
  {
   "cell_type": "code",
   "execution_count": null,
   "id": "42aa3399",
   "metadata": {},
   "outputs": [],
   "source": []
  }
 ],
 "metadata": {
  "kernelspec": {
   "display_name": "Python 3 (ipykernel)",
   "language": "python",
   "name": "python3"
  },
  "language_info": {
   "codemirror_mode": {
    "name": "ipython",
    "version": 3
   },
   "file_extension": ".py",
   "mimetype": "text/x-python",
   "name": "python",
   "nbconvert_exporter": "python",
   "pygments_lexer": "ipython3",
   "version": "3.9.13"
  },
  "toc": {
   "base_numbering": 1,
   "nav_menu": {},
   "number_sections": true,
   "sideBar": true,
   "skip_h1_title": false,
   "title_cell": "Table of Contents",
   "title_sidebar": "Contents",
   "toc_cell": false,
   "toc_position": {},
   "toc_section_display": true,
   "toc_window_display": false
  }
 },
 "nbformat": 4,
 "nbformat_minor": 5
}
