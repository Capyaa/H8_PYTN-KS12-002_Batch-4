{
 "cells": [
  {
   "cell_type": "markdown",
   "id": "e4669342",
   "metadata": {},
   "source": [
    "# Conditions, Control, Flow & Looping"
   ]
  },
  {
   "cell_type": "markdown",
   "id": "8128ba04",
   "metadata": {},
   "source": [
    "## Conditional"
   ]
  },
  {
   "cell_type": "code",
   "execution_count": 1,
   "id": "2535a82f",
   "metadata": {},
   "outputs": [],
   "source": [
    "a = 10\n",
    "b = 5"
   ]
  },
  {
   "cell_type": "code",
   "execution_count": 2,
   "id": "da8a7b3e",
   "metadata": {},
   "outputs": [
    {
     "name": "stdout",
     "output_type": "stream",
     "text": [
      "Nilai a tidak sama dengan nilai b\n"
     ]
    }
   ],
   "source": [
    "if a != b :\n",
    "    print('Nilai a tidak sama dengan nilai b')"
   ]
  },
  {
   "cell_type": "code",
   "execution_count": 4,
   "id": "18dd146a",
   "metadata": {},
   "outputs": [],
   "source": [
    "if a == b :\n",
    "    print('Nilai a sama dengan nilai b')"
   ]
  },
  {
   "cell_type": "code",
   "execution_count": 8,
   "id": "e7ccd571",
   "metadata": {},
   "outputs": [],
   "source": [
    "if 'foo' in 'Rendang is best asians food':\n",
    "    print('foo is exist')"
   ]
  },
  {
   "cell_type": "code",
   "execution_count": 13,
   "id": "c359b92a",
   "metadata": {},
   "outputs": [
    {
     "name": "stdout",
     "output_type": "stream",
     "text": [
      "11 termasuk dalam bilangan prima\n"
     ]
    }
   ],
   "source": [
    "bilangan_prima = [2,3,5,7,11,13]\n",
    "if 11 in bilangan_prima:\n",
    "    print('11 termasuk dalam bilangan prima')"
   ]
  },
  {
   "cell_type": "code",
   "execution_count": 15,
   "id": "82802845",
   "metadata": {},
   "outputs": [
    {
     "name": "stdout",
     "output_type": "stream",
     "text": [
      "Nilai a sama dengan nilai b\n",
      "Karena nilai a lebih besar dari b\n"
     ]
    }
   ],
   "source": [
    "if a != b:\n",
    "    print ('Nilai a tidak sama dengan nilai b')\n",
    "    if a < b :\n",
    "        print('Karena nilai a lebih kecil dari b')\n",
    "    if a > b :\n",
    "        print('Karena nilai a lebih besar dari b')"
   ]
  },
  {
   "cell_type": "code",
   "execution_count": 16,
   "id": "1ee5c3c5",
   "metadata": {},
   "outputs": [
    {
     "name": "stdout",
     "output_type": "stream",
     "text": [
      "Nilai a tidak sama dengan nilai b\n"
     ]
    }
   ],
   "source": [
    "if a != b :\n",
    "    print('Nilai a tidak sama dengan nilai b')\n",
    "else :\n",
    "    print('Nilai a sama dengan nilai b')"
   ]
  },
  {
   "cell_type": "code",
   "execution_count": 18,
   "id": "23e8b962",
   "metadata": {},
   "outputs": [
    {
     "name": "stdout",
     "output_type": "stream",
     "text": [
      "Nilai a sama dengan nilai b\n"
     ]
    }
   ],
   "source": [
    "if a != b:\n",
    "    print ('Nilai a sama dengan nilai b')\n",
    "elif a < b :\n",
    "    print('Karena nilai a lebih kecil dari b')\n",
    "else :\n",
    "    print('Karena nilai a lebih besar dari b')"
   ]
  },
  {
   "cell_type": "code",
   "execution_count": null,
   "id": "a367cee6",
   "metadata": {},
   "outputs": [],
   "source": []
  }
 ],
 "metadata": {
  "kernelspec": {
   "display_name": "Python 3 (ipykernel)",
   "language": "python",
   "name": "python3"
  },
  "language_info": {
   "codemirror_mode": {
    "name": "ipython",
    "version": 3
   },
   "file_extension": ".py",
   "mimetype": "text/x-python",
   "name": "python",
   "nbconvert_exporter": "python",
   "pygments_lexer": "ipython3",
   "version": "3.9.13"
  },
  "toc": {
   "base_numbering": 1,
   "nav_menu": {},
   "number_sections": true,
   "sideBar": true,
   "skip_h1_title": false,
   "title_cell": "Table of Contents",
   "title_sidebar": "Contents",
   "toc_cell": false,
   "toc_position": {},
   "toc_section_display": true,
   "toc_window_display": false
  }
 },
 "nbformat": 4,
 "nbformat_minor": 5
}
